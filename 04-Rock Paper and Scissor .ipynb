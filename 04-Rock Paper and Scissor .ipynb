{
 "cells": [
  {
   "cell_type": "markdown",
   "id": "cfc73380",
   "metadata": {},
   "source": [
    "# -Rock Paper and Scissor \n"
   ]
  },
  {
   "cell_type": "code",
   "execution_count": 13,
   "id": "add5ffc1",
   "metadata": {},
   "outputs": [],
   "source": [
    "import random"
   ]
  },
  {
   "cell_type": "code",
   "execution_count": 18,
   "id": "2fdde46c",
   "metadata": {},
   "outputs": [],
   "source": [
    "def play():\n",
    "    \n",
    "    user = input(\"What's your choise? 'r' is for rock, 'p' is for paper and 's' is for scissor.\\n\")\n",
    "    \n",
    "    computer = random.choice(['r','p','s'])\n",
    "    \n",
    "    \n",
    "    \n",
    "    if user == computer:\n",
    "        \n",
    "        return \"it's a tie\"\n",
    "    \n",
    "    \n",
    "    \n",
    "    if is_win(user, computer):\n",
    "        \n",
    "        \n",
    "        return 'you win'\n",
    "    \n",
    "    \n",
    "    return 'you lost'\n",
    "    \n",
    "    \n",
    "    \n",
    "    # r wins s\n",
    "    # s wins p\n",
    "    # p wins r\n",
    "    \n",
    "def is_win(player, opponent):\n",
    "    \n",
    "    if (player == 'r' and opponent == 's') or (player == 's' and opponent == 'p') or (player=='p' and opponent == 'r'):\n",
    "        \n",
    "        \n",
    "        return True\n",
    "    \n",
    "    \n",
    "        \n",
    "      "
   ]
  },
  {
   "cell_type": "code",
   "execution_count": 19,
   "id": "448bb549",
   "metadata": {},
   "outputs": [
    {
     "name": "stdout",
     "output_type": "stream",
     "text": [
      "What's your choise? 'r' is for rock, 'p' is for paper and 's' is for scissor.\n",
      "r\n",
      "you win\n"
     ]
    }
   ],
   "source": [
    "print(play())"
   ]
  },
  {
   "cell_type": "code",
   "execution_count": 20,
   "id": "447216d2",
   "metadata": {},
   "outputs": [
    {
     "name": "stdout",
     "output_type": "stream",
     "text": [
      "What's your choise? 'r' is for rock, 'p' is for paper and 's' is for scissor.\n",
      "s\n",
      "it's a tie\n"
     ]
    }
   ],
   "source": [
    "print(play())"
   ]
  },
  {
   "cell_type": "code",
   "execution_count": 21,
   "id": "3ab7224a",
   "metadata": {},
   "outputs": [
    {
     "name": "stdout",
     "output_type": "stream",
     "text": [
      "What's your choise? 'r' is for rock, 'p' is for paper and 's' is for scissor.\n",
      "p\n",
      "you win\n"
     ]
    }
   ],
   "source": [
    "print(play())"
   ]
  },
  {
   "cell_type": "code",
   "execution_count": null,
   "id": "91560a20",
   "metadata": {},
   "outputs": [],
   "source": []
  }
 ],
 "metadata": {
  "kernelspec": {
   "display_name": "Python 3 (ipykernel)",
   "language": "python",
   "name": "python3"
  },
  "language_info": {
   "codemirror_mode": {
    "name": "ipython",
    "version": 3
   },
   "file_extension": ".py",
   "mimetype": "text/x-python",
   "name": "python",
   "nbconvert_exporter": "python",
   "pygments_lexer": "ipython3",
   "version": "3.9.7"
  }
 },
 "nbformat": 4,
 "nbformat_minor": 5
}
