{
 "cells": [
  {
   "cell_type": "markdown",
   "id": "7b877f98",
   "metadata": {},
   "source": [
    "# Guess the number that computer has\n",
    "\n",
    "We will try to guess numbers playing with computer."
   ]
  },
  {
   "cell_type": "code",
   "execution_count": 1,
   "id": "bf3765b1",
   "metadata": {},
   "outputs": [],
   "source": [
    "import random\n"
   ]
  },
  {
   "cell_type": "code",
   "execution_count": 6,
   "id": "e23cf89a",
   "metadata": {},
   "outputs": [],
   "source": [
    "def guess(x):\n",
    "    random_number = random.randint(1, x)\n",
    "    \n",
    "    guess = 0\n",
    "    \n",
    "    while guess != random_number:\n",
    "        \n",
    "        guess = int(input(f\"Enter a number btwn 1  and {x}: \"))\n",
    "        \n",
    "        if guess <random_number:\n",
    "            print(\"Sorry! the number is too low\")\n",
    "        elif guess > random_number:\n",
    "            print(\"Sorry, your number is too high\")\n",
    "            \n",
    "    print(f\"Yayyy you guessed the correct number{random_number}\")\n",
    "        "
   ]
  },
  {
   "cell_type": "code",
   "execution_count": 7,
   "id": "547d5db3",
   "metadata": {},
   "outputs": [
    {
     "name": "stdout",
     "output_type": "stream",
     "text": [
      "Enter a number btwn 1  and 10: 3\n",
      "Sorry! the number is too low\n",
      "Enter a number btwn 1  and 10: 8\n",
      "Yayyy you guessed the correct number8\n"
     ]
    }
   ],
   "source": [
    "guess(10)"
   ]
  },
  {
   "cell_type": "code",
   "execution_count": null,
   "id": "b597ee2b",
   "metadata": {},
   "outputs": [],
   "source": []
  }
 ],
 "metadata": {
  "kernelspec": {
   "display_name": "Python 3 (ipykernel)",
   "language": "python",
   "name": "python3"
  },
  "language_info": {
   "codemirror_mode": {
    "name": "ipython",
    "version": 3
   },
   "file_extension": ".py",
   "mimetype": "text/x-python",
   "name": "python",
   "nbconvert_exporter": "python",
   "pygments_lexer": "ipython3",
   "version": "3.9.7"
  }
 },
 "nbformat": 4,
 "nbformat_minor": 5
}
