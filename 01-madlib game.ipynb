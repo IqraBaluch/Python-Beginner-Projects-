{
 "cells": [
  {
   "cell_type": "markdown",
   "id": "06849a22",
   "metadata": {},
   "source": [
    "# Madlib Game\n",
    "\n",
    "Mad Libs is a phrasal template word game created by Leonard Stern and Roger Price.It consists of one player prompting others for a list of words to substitute for blanks in a story before reading aloud. The game is frequently played as a party game or as a pastime."
   ]
  },
  {
   "cell_type": "markdown",
   "id": "a347222b",
   "metadata": {},
   "source": [
    "We are gonna recreate this game in Python using string concatenation. \n"
   ]
  },
  {
   "cell_type": "code",
   "execution_count": 7,
   "id": "f09255e8",
   "metadata": {},
   "outputs": [
    {
     "name": "stdout",
     "output_type": "stream",
     "text": [
      "Study\n",
      "Study \n",
      "Study \n"
     ]
    }
   ],
   "source": [
    "# string concatenation \n",
    "\n",
    "## suppose we wanna say Learn a programming language. \n",
    "\n",
    "\n",
    "language = \"\" #some string\n",
    "print(\"Study\" + language)\n",
    "print(\"Study {}\".format(language))\n",
    "print(f\"Study {language}\")\n"
   ]
  },
  {
   "cell_type": "code",
   "execution_count": 8,
   "id": "b442b597",
   "metadata": {},
   "outputs": [
    {
     "name": "stdout",
     "output_type": "stream",
     "text": [
      "StudyPython Programming\n",
      "Study Python Programming\n",
      "Study Python Programming\n"
     ]
    }
   ],
   "source": [
    "\n",
    "language = \"Python Programming\" #some string\n",
    "print(\"Study\" + language)\n",
    "print(\"Study {}\".format(language))\n",
    "print(f\"Study {language}\")"
   ]
  },
  {
   "cell_type": "code",
   "execution_count": 14,
   "id": "ad62ffbd",
   "metadata": {},
   "outputs": [
    {
     "name": "stdout",
     "output_type": "stream",
     "text": [
      "write a nounhome\n",
      "Add an adjectivehappy\n",
      "Add a verbrun\n",
      "Add a verbgo\n",
      "Add another nounbanana\n"
     ]
    }
   ],
   "source": [
    "# madlib game\n",
    "\n",
    "noun = input(\"write a noun\")\n",
    "adj = input(\"Add an adjective\")\n",
    "noun2 = input(\"Add a verb\")\n",
    "verb1 = input(\"Add a verb\")\n",
    "noun3 = input(\"Add another noun\")\n",
    "\n",
    "\n",
    "\n",
    "madlib =  f\"On a mango tree in a jungle, there lived many {noun}!!  They were {adj} in their small nests. Before the onset of the rainy season, all the {noun2} of the jungle {verb1} their homes. The {noun3} also made their homes more secure.\""
   ]
  },
  {
   "cell_type": "code",
   "execution_count": 15,
   "id": "a743b595",
   "metadata": {},
   "outputs": [
    {
     "data": {
      "text/plain": [
       "'On a mango tree in a jungle, there lived many home!!  They were happy in their small nests. Before the onset of the rainy season, all the run of the jungle go their homes. The banana also made their homes more secure.'"
      ]
     },
     "execution_count": 15,
     "metadata": {},
     "output_type": "execute_result"
    }
   ],
   "source": [
    "madlib"
   ]
  },
  {
   "cell_type": "code",
   "execution_count": null,
   "id": "fb77acec",
   "metadata": {},
   "outputs": [],
   "source": []
  }
 ],
 "metadata": {
  "kernelspec": {
   "display_name": "Python 3 (ipykernel)",
   "language": "python",
   "name": "python3"
  },
  "language_info": {
   "codemirror_mode": {
    "name": "ipython",
    "version": 3
   },
   "file_extension": ".py",
   "mimetype": "text/x-python",
   "name": "python",
   "nbconvert_exporter": "python",
   "pygments_lexer": "ipython3",
   "version": "3.9.7"
  }
 },
 "nbformat": 4,
 "nbformat_minor": 5
}
