{
 "cells": [
  {
   "cell_type": "markdown",
   "id": "74383f1b",
   "metadata": {},
   "source": [
    "# Computer Guess the number you have \n",
    "\n",
    "### Simple Function"
   ]
  },
  {
   "cell_type": "code",
   "execution_count": 5,
   "id": "b02bb4b8",
   "metadata": {},
   "outputs": [],
   "source": [
    "import random\n",
    "def computer_guess(x):\n",
    "    \n",
    "    #starting and ending points to guess.\n",
    "    \n",
    "    low = 1\n",
    "    high = x\n",
    "    \n",
    "    ## usef provides some feedback\n",
    "    \n",
    "    feedback = \"\"\n",
    "    \n",
    "    while feedback != \"c\":\n",
    "        guess = random.randint(low, high)\n",
    "        \n",
    "        feedback = input(f\"is {guess} too high (H), too low(L) or correct(c)\").lower()\n",
    "        \n",
    "        if feedback == 'h':\n",
    "            high = guess -1\n",
    "            #print(\"its too high\")\n",
    "            \n",
    "        elif feedback == 'l':\n",
    "            #print(\"its too low\")\n",
    "        \n",
    "            low = guess + 1\n",
    "            \n",
    "\n",
    "    print(f\"Congratulation {guess} is the correct number\")\n",
    "   \n",
    " "
   ]
  },
  {
   "cell_type": "code",
   "execution_count": 6,
   "id": "a41e0256",
   "metadata": {},
   "outputs": [
    {
     "name": "stdout",
     "output_type": "stream",
     "text": [
      "is 318 too high (H), too low(L) or correct(c)l\n",
      "is 566 too high (H), too low(L) or correct(c)h\n",
      "is 371 too high (H), too low(L) or correct(c)h\n",
      "is 353 too high (H), too low(L) or correct(c)h\n",
      "is 337 too high (H), too low(L) or correct(c)h\n",
      "is 329 too high (H), too low(L) or correct(c)c\n",
      "Congratulation 329 is the correct number\n"
     ]
    }
   ],
   "source": [
    "computer_guess(1000)"
   ]
  },
  {
   "cell_type": "code",
   "execution_count": 1,
   "id": "80339166",
   "metadata": {},
   "outputs": [],
   "source": [
    "import random\n",
    "\n",
    "\n",
    "def computer_guess(x):\n",
    "    \n",
    "    low = 1\n",
    "    high = x\n",
    "    \n",
    "    feedback = \"\"\n",
    "    \n",
    "    while feedback != 'c':\n",
    "        \n",
    "        if low != high:\n",
    "            \n",
    "            comp_guess = random.randint(low, high)\n",
    "        else:\n",
    "                \n",
    "            comp_guess = low\n",
    "            \n",
    "        \n",
    "            feedback = input(f\"Is {comp_guess} too high (h), too low (L) or correct (C)\").lower()\n",
    "        \n",
    "            if feedback == \"h\":\n",
    "                high = comp_guess - 1\n",
    "            elif feedback == \"l\":\n",
    "                low = low +1\n",
    "    else:\n",
    "        print(f\"Congratulation {comp_guess} is the correct number\")\n",
    "        \n",
    "        "
   ]
  },
  {
   "cell_type": "code",
   "execution_count": null,
   "id": "f9f1c9fa",
   "metadata": {},
   "outputs": [],
   "source": [
    "computer_guess(5)"
   ]
  },
  {
   "cell_type": "code",
   "execution_count": 10,
   "id": "2e2c58e8",
   "metadata": {},
   "outputs": [
    {
     "name": "stdout",
     "output_type": "stream",
     "text": [
      "Is 376 too high (h), too low (L) or correct (C)h\n",
      "Is 178 too high (h), too low (L) or correct (C)l\n",
      "Is 63 too high (h), too low (L) or correct (C)l\n",
      "Is 22 too high (h), too low (L) or correct (C)l\n",
      "Is 164 too high (h), too low (L) or correct (C)l\n",
      "Is 375 too high (h), too low (L) or correct (C)l\n",
      "Is 363 too high (h), too low (L) or correct (C)h\n",
      "Is 326 too high (h), too low (L) or correct (C)h\n",
      "Is 277 too high (h), too low (L) or correct (C)h\n",
      "Is 121 too high (h), too low (L) or correct (C)l\n",
      "Is 96 too high (h), too low (L) or correct (C)l\n",
      "Is 133 too high (h), too low (L) or correct (C)l\n",
      "Is 61 too high (h), too low (L) or correct (C)l\n",
      "Is 168 too high (h), too low (L) or correct (C)l\n",
      "Is 190 too high (h), too low (L) or correct (C)l\n",
      "Is 197 too high (h), too low (L) or correct (C)l\n",
      "Is 16 too high (h), too low (L) or correct (C)l\n",
      "Is 73 too high (h), too low (L) or correct (C)l\n",
      "Is 78 too high (h), too low (L) or correct (C)l\n",
      "Is 51 too high (h), too low (L) or correct (C)l\n",
      "Is 68 too high (h), too low (L) or correct (C)l\n",
      "Is 54 too high (h), too low (L) or correct (C)l\n",
      "Is 30 too high (h), too low (L) or correct (C)l\n",
      "Is 79 too high (h), too low (L) or correct (C)l\n",
      "Is 224 too high (h), too low (L) or correct (C)l\n",
      "Is 207 too high (h), too low (L) or correct (C)l\n",
      "Is 235 too high (h), too low (L) or correct (C)l\n",
      "Is 249 too high (h), too low (L) or correct (C)l\n",
      "Is 112 too high (h), too low (L) or correct (C)l\n",
      "Is 72 too high (h), too low (L) or correct (C)l\n",
      "Is 131 too high (h), too low (L) or correct (C)l\n",
      "Is 268 too high (h), too low (L) or correct (C)l\n",
      "Is 154 too high (h), too low (L) or correct (C)l\n",
      "Is 95 too high (h), too low (L) or correct (C)l\n",
      "Is 182 too high (h), too low (L) or correct (C)l\n",
      "Is 196 too high (h), too low (L) or correct (C)l\n",
      "Is 215 too high (h), too low (L) or correct (C)l\n",
      "Is 35 too high (h), too low (L) or correct (C)l\n",
      "Is 263 too high (h), too low (L) or correct (C)l\n",
      "Is 211 too high (h), too low (L) or correct (C)l\n",
      "Is 82 too high (h), too low (L) or correct (C)l\n",
      "Is 226 too high (h), too low (L) or correct (C)l\n",
      "Is 196 too high (h), too low (L) or correct (C)l\n",
      "Is 68 too high (h), too low (L) or correct (C)l\n",
      "Is 127 too high (h), too low (L) or correct (C)l\n",
      "Is 219 too high (h), too low (L) or correct (C)l\n",
      "Is 240 too high (h), too low (L) or correct (C)l\n",
      "Is 206 too high (h), too low (L) or correct (C)l\n",
      "Is 59 too high (h), too low (L) or correct (C)l\n",
      "Is 119 too high (h), too low (L) or correct (C)l\n",
      "Is 130 too high (h), too low (L) or correct (C)l\n",
      "Is 79 too high (h), too low (L) or correct (C)l\n",
      "Is 159 too high (h), too low (L) or correct (C)l\n",
      "Is 120 too high (h), too low (L) or correct (C)l\n",
      "Is 98 too high (h), too low (L) or correct (C)l\n",
      "Is 144 too high (h), too low (L) or correct (C)l\n",
      "Is 89 too high (h), too low (L) or correct (C)l\n",
      "Is 210 too high (h), too low (L) or correct (C)l\n",
      "Is 238 too high (h), too low (L) or correct (C)l\n",
      "Is 91 too high (h), too low (L) or correct (C)l\n",
      "Is 256 too high (h), too low (L) or correct (C)c\n",
      "Congratulation 256 is the correct number\n"
     ]
    }
   ],
   "source": [
    "computer_guess(500)"
   ]
  },
  {
   "cell_type": "code",
   "execution_count": null,
   "id": "bd1275c3",
   "metadata": {},
   "outputs": [],
   "source": []
  }
 ],
 "metadata": {
  "kernelspec": {
   "display_name": "Python 3 (ipykernel)",
   "language": "python",
   "name": "python3"
  },
  "language_info": {
   "codemirror_mode": {
    "name": "ipython",
    "version": 3
   },
   "file_extension": ".py",
   "mimetype": "text/x-python",
   "name": "python",
   "nbconvert_exporter": "python",
   "pygments_lexer": "ipython3",
   "version": "3.9.7"
  }
 },
 "nbformat": 4,
 "nbformat_minor": 5
}
